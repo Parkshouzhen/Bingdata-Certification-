{
 "cells": [
  {
   "cell_type": "markdown",
   "id": "f3a1e8d7",
   "metadata": {
    "papermill": {
     "duration": 0.028822,
     "end_time": "2022-05-30T06:16:38.378459",
     "exception": false,
     "start_time": "2022-05-30T06:16:38.349637",
     "status": "completed"
    },
    "tags": []
   },
   "source": [
    "## 당뇨병 여부 판단\n",
    "- 이상치 처리 (Glucose, BloodPressure, SkinThickness, Insulin, BMI가 0인 값)"
   ]
  },
  {
   "cell_type": "markdown",
   "id": "82b14d9b",
   "metadata": {
    "papermill": {
     "duration": 0.025568,
     "end_time": "2022-05-30T06:16:38.431810",
     "exception": false,
     "start_time": "2022-05-30T06:16:38.406242",
     "status": "completed"
    },
    "tags": []
   },
   "source": [
    "## [참고]작업형2 문구\n",
    "- 출력을 원하실 경우 print() 함수 활용\n",
    "- 예시) print(df.head())\n",
    "- getcwd(), chdir() 등 작업 폴더 설정 불필요\n",
    "- 파일 경로 상 내부 드라이브 경로(C: 등) 접근 불가\n",
    "\n",
    "### 데이터 파일 읽기 예제\n",
    "- import pandas as pd\n",
    "- X_test = pd.read_csv(\"data/X_test.csv\")\n",
    "- X_train = pd.read_csv(\"data/X_train.csv\")\n",
    "- y_train = pd.read_csv(\"data/y_train.csv\")\n",
    "\n",
    "### 사용자 코딩\n",
    "\n",
    "### 답안 제출 참고\n",
    "- 아래 코드 예측변수와 수험번호를 개인별로 변경하여 활용\n",
    "- pd.DataFrame({'cust_id': X_test.cust_id, 'gender': pred}).to_csv('003000000.csv', index=False)"
   ]
  },
  {
   "cell_type": "code",
   "execution_count": 1,
   "id": "4949cd8a",
   "metadata": {
    "_cell_guid": "b1076dfc-b9ad-4769-8c92-a6c4dae69d19",
    "_uuid": "8f2839f25d086af736a60e9eeb907d3b93b6e0e5",
    "execution": {
     "iopub.execute_input": "2022-05-30T06:16:38.489074Z",
     "iopub.status.busy": "2022-05-30T06:16:38.487299Z",
     "iopub.status.idle": "2022-05-30T06:16:39.369328Z",
     "shell.execute_reply": "2022-05-30T06:16:39.369919Z",
     "shell.execute_reply.started": "2022-05-30T05:08:51.486439Z"
    },
    "papermill": {
     "duration": 0.912741,
     "end_time": "2022-05-30T06:16:39.370220",
     "exception": false,
     "start_time": "2022-05-30T06:16:38.457479",
     "status": "completed"
    },
    "tags": []
   },
   "outputs": [
    {
     "data": {
      "text/plain": [
       "((614, 9), (154, 9), (614, 2), (154, 2))"
      ]
     },
     "execution_count": 1,
     "metadata": {},
     "output_type": "execute_result"
    }
   ],
   "source": [
    "# 시험환경 세팅 (코드 변경 X)\n",
    "import pandas as pd\n",
    "import numpy as np\n",
    "from sklearn.model_selection import train_test_split\n",
    "\n",
    "def exam_data_load(df, target, id_name=\"\", null_name=\"\"):\n",
    "    if id_name == \"\":\n",
    "        df = df.reset_index().rename(columns={\"index\": \"id\"})\n",
    "        id_name = 'id'\n",
    "    else:\n",
    "        id_name = id_name\n",
    "    \n",
    "    if null_name != \"\":\n",
    "        df[df == null_name] = np.nan\n",
    "    \n",
    "    X_train, X_test = train_test_split(df, test_size=0.2, random_state=2021)\n",
    "    \n",
    "    y_train = X_train[[id_name, target]]\n",
    "    X_train = X_train.drop(columns=[target])\n",
    "\n",
    "    \n",
    "    y_test = X_test[[id_name, target]]\n",
    "    X_test = X_test.drop(columns=[target])\n",
    "    return X_train, X_test, y_train, y_test \n",
    "    \n",
    "df = pd.read_csv(\"../input/pima-indians-diabetes-database/diabetes.csv\")\n",
    "X_train, X_test, y_train, y_test = exam_data_load(df, target='Outcome')\n",
    "\n",
    "X_train.shape, X_test.shape, y_train.shape, y_test.shape"
   ]
  },
  {
   "cell_type": "markdown",
   "id": "d0726f7b",
   "metadata": {
    "papermill": {
     "duration": 0.025205,
     "end_time": "2022-05-30T06:16:39.422023",
     "exception": false,
     "start_time": "2022-05-30T06:16:39.396818",
     "status": "completed"
    },
    "tags": []
   },
   "source": [
    "## Start"
   ]
  },
  {
   "cell_type": "markdown",
   "id": "d239fc93",
   "metadata": {
    "papermill": {
     "duration": 0.025833,
     "end_time": "2022-05-30T06:16:39.473705",
     "exception": false,
     "start_time": "2022-05-30T06:16:39.447872",
     "status": "completed"
    },
    "tags": []
   },
   "source": [
    "## 라이브러리 및 데이터 불러오기"
   ]
  },
  {
   "cell_type": "code",
   "execution_count": 2,
   "id": "fde54780",
   "metadata": {
    "execution": {
     "iopub.execute_input": "2022-05-30T06:16:39.528288Z",
     "iopub.status.busy": "2022-05-30T06:16:39.527692Z",
     "iopub.status.idle": "2022-05-30T06:16:39.655790Z",
     "shell.execute_reply": "2022-05-30T06:16:39.656402Z",
     "shell.execute_reply.started": "2022-05-30T05:05:08.898581Z"
    },
    "papermill": {
     "duration": 0.15713,
     "end_time": "2022-05-30T06:16:39.656589",
     "exception": false,
     "start_time": "2022-05-30T06:16:39.499459",
     "status": "completed"
    },
    "tags": []
   },
   "outputs": [],
   "source": [
    "import pandas as pd\n",
    "import numpy as np\n",
    "import matplotlib.pyplot as plt\n",
    "import seaborn as sns"
   ]
  },
  {
   "cell_type": "code",
   "execution_count": 3,
   "id": "91c2c62e",
   "metadata": {
    "execution": {
     "iopub.execute_input": "2022-05-30T06:16:39.712296Z",
     "iopub.status.busy": "2022-05-30T06:16:39.711672Z",
     "iopub.status.idle": "2022-05-30T06:16:39.715892Z",
     "shell.execute_reply": "2022-05-30T06:16:39.716370Z",
     "shell.execute_reply.started": "2022-05-30T04:59:20.255318Z"
    },
    "papermill": {
     "duration": 0.033748,
     "end_time": "2022-05-30T06:16:39.716539",
     "exception": false,
     "start_time": "2022-05-30T06:16:39.682791",
     "status": "completed"
    },
    "tags": []
   },
   "outputs": [
    {
     "data": {
      "text/plain": [
       "((614, 9), (614, 2), (154, 9))"
      ]
     },
     "execution_count": 3,
     "metadata": {},
     "output_type": "execute_result"
    }
   ],
   "source": [
    "# 데이터 불러오기 (생략)\n",
    "X_train.shape, y_train.shape, X_test.shape"
   ]
  },
  {
   "cell_type": "markdown",
   "id": "dcfdbd38",
   "metadata": {
    "papermill": {
     "duration": 0.025594,
     "end_time": "2022-05-30T06:16:39.768478",
     "exception": false,
     "start_time": "2022-05-30T06:16:39.742884",
     "status": "completed"
    },
    "tags": []
   },
   "source": [
    "## EDA"
   ]
  },
  {
   "cell_type": "code",
   "execution_count": 4,
   "id": "7dd03125",
   "metadata": {
    "execution": {
     "iopub.execute_input": "2022-05-30T06:16:39.824220Z",
     "iopub.status.busy": "2022-05-30T06:16:39.823235Z",
     "iopub.status.idle": "2022-05-30T06:16:39.840540Z",
     "shell.execute_reply": "2022-05-30T06:16:39.841128Z",
     "shell.execute_reply.started": "2022-05-30T04:59:20.262919Z"
    },
    "papermill": {
     "duration": 0.046611,
     "end_time": "2022-05-30T06:16:39.841307",
     "exception": false,
     "start_time": "2022-05-30T06:16:39.794696",
     "status": "completed"
    },
    "tags": []
   },
   "outputs": [
    {
     "name": "stdout",
     "output_type": "stream",
     "text": [
      "<class 'pandas.core.frame.DataFrame'>\n",
      "Int64Index: 614 entries, 147 to 116\n",
      "Data columns (total 9 columns):\n",
      " #   Column                    Non-Null Count  Dtype  \n",
      "---  ------                    --------------  -----  \n",
      " 0   id                        614 non-null    int64  \n",
      " 1   Pregnancies               614 non-null    int64  \n",
      " 2   Glucose                   614 non-null    int64  \n",
      " 3   BloodPressure             614 non-null    int64  \n",
      " 4   SkinThickness             614 non-null    int64  \n",
      " 5   Insulin                   614 non-null    int64  \n",
      " 6   BMI                       614 non-null    float64\n",
      " 7   DiabetesPedigreeFunction  614 non-null    float64\n",
      " 8   Age                       614 non-null    int64  \n",
      "dtypes: float64(2), int64(7)\n",
      "memory usage: 48.0 KB\n"
     ]
    }
   ],
   "source": [
    "X_train.info()"
   ]
  },
  {
   "cell_type": "code",
   "execution_count": 5,
   "id": "258d6b82",
   "metadata": {
    "execution": {
     "iopub.execute_input": "2022-05-30T06:16:39.903637Z",
     "iopub.status.busy": "2022-05-30T06:16:39.900118Z",
     "iopub.status.idle": "2022-05-30T06:16:39.918281Z",
     "shell.execute_reply": "2022-05-30T06:16:39.918896Z",
     "shell.execute_reply.started": "2022-05-30T04:59:20.290858Z"
    },
    "papermill": {
     "duration": 0.049335,
     "end_time": "2022-05-30T06:16:39.919057",
     "exception": false,
     "start_time": "2022-05-30T06:16:39.869722",
     "status": "completed"
    },
    "tags": []
   },
   "outputs": [
    {
     "data": {
      "text/html": [
       "<div>\n",
       "<style scoped>\n",
       "    .dataframe tbody tr th:only-of-type {\n",
       "        vertical-align: middle;\n",
       "    }\n",
       "\n",
       "    .dataframe tbody tr th {\n",
       "        vertical-align: top;\n",
       "    }\n",
       "\n",
       "    .dataframe thead th {\n",
       "        text-align: right;\n",
       "    }\n",
       "</style>\n",
       "<table border=\"1\" class=\"dataframe\">\n",
       "  <thead>\n",
       "    <tr style=\"text-align: right;\">\n",
       "      <th></th>\n",
       "      <th>id</th>\n",
       "      <th>Pregnancies</th>\n",
       "      <th>Glucose</th>\n",
       "      <th>BloodPressure</th>\n",
       "      <th>SkinThickness</th>\n",
       "      <th>Insulin</th>\n",
       "      <th>BMI</th>\n",
       "      <th>DiabetesPedigreeFunction</th>\n",
       "      <th>Age</th>\n",
       "      <th>id</th>\n",
       "      <th>Outcome</th>\n",
       "    </tr>\n",
       "  </thead>\n",
       "  <tbody>\n",
       "    <tr>\n",
       "      <th>147</th>\n",
       "      <td>147</td>\n",
       "      <td>2</td>\n",
       "      <td>106</td>\n",
       "      <td>64</td>\n",
       "      <td>35</td>\n",
       "      <td>119</td>\n",
       "      <td>30.5</td>\n",
       "      <td>1.400</td>\n",
       "      <td>34</td>\n",
       "      <td>147</td>\n",
       "      <td>0</td>\n",
       "    </tr>\n",
       "    <tr>\n",
       "      <th>344</th>\n",
       "      <td>344</td>\n",
       "      <td>8</td>\n",
       "      <td>95</td>\n",
       "      <td>72</td>\n",
       "      <td>0</td>\n",
       "      <td>0</td>\n",
       "      <td>36.8</td>\n",
       "      <td>0.485</td>\n",
       "      <td>57</td>\n",
       "      <td>344</td>\n",
       "      <td>0</td>\n",
       "    </tr>\n",
       "    <tr>\n",
       "      <th>390</th>\n",
       "      <td>390</td>\n",
       "      <td>1</td>\n",
       "      <td>100</td>\n",
       "      <td>66</td>\n",
       "      <td>29</td>\n",
       "      <td>196</td>\n",
       "      <td>32.0</td>\n",
       "      <td>0.444</td>\n",
       "      <td>42</td>\n",
       "      <td>390</td>\n",
       "      <td>0</td>\n",
       "    </tr>\n",
       "    <tr>\n",
       "      <th>150</th>\n",
       "      <td>150</td>\n",
       "      <td>1</td>\n",
       "      <td>136</td>\n",
       "      <td>74</td>\n",
       "      <td>50</td>\n",
       "      <td>204</td>\n",
       "      <td>37.4</td>\n",
       "      <td>0.399</td>\n",
       "      <td>24</td>\n",
       "      <td>150</td>\n",
       "      <td>0</td>\n",
       "    </tr>\n",
       "    <tr>\n",
       "      <th>132</th>\n",
       "      <td>132</td>\n",
       "      <td>3</td>\n",
       "      <td>170</td>\n",
       "      <td>64</td>\n",
       "      <td>37</td>\n",
       "      <td>225</td>\n",
       "      <td>34.5</td>\n",
       "      <td>0.356</td>\n",
       "      <td>30</td>\n",
       "      <td>132</td>\n",
       "      <td>1</td>\n",
       "    </tr>\n",
       "  </tbody>\n",
       "</table>\n",
       "</div>"
      ],
      "text/plain": [
       "      id  Pregnancies  Glucose  BloodPressure  SkinThickness  Insulin   BMI  \\\n",
       "147  147            2      106             64             35      119  30.5   \n",
       "344  344            8       95             72              0        0  36.8   \n",
       "390  390            1      100             66             29      196  32.0   \n",
       "150  150            1      136             74             50      204  37.4   \n",
       "132  132            3      170             64             37      225  34.5   \n",
       "\n",
       "     DiabetesPedigreeFunction  Age   id  Outcome  \n",
       "147                     1.400   34  147        0  \n",
       "344                     0.485   57  344        0  \n",
       "390                     0.444   42  390        0  \n",
       "150                     0.399   24  150        0  \n",
       "132                     0.356   30  132        1  "
      ]
     },
     "execution_count": 5,
     "metadata": {},
     "output_type": "execute_result"
    }
   ],
   "source": [
    "train = pd.concat([X_train, y_train], axis=1)\n",
    "train.head()"
   ]
  },
  {
   "cell_type": "code",
   "execution_count": 6,
   "id": "b1377689",
   "metadata": {
    "execution": {
     "iopub.execute_input": "2022-05-30T06:16:39.977966Z",
     "iopub.status.busy": "2022-05-30T06:16:39.976178Z",
     "iopub.status.idle": "2022-05-30T06:16:39.997059Z",
     "shell.execute_reply": "2022-05-30T06:16:39.997621Z",
     "shell.execute_reply.started": "2022-05-30T04:59:20.313233Z"
    },
    "papermill": {
     "duration": 0.051768,
     "end_time": "2022-05-30T06:16:39.997783",
     "exception": false,
     "start_time": "2022-05-30T06:16:39.946015",
     "status": "completed"
    },
    "tags": []
   },
   "outputs": [
    {
     "data": {
      "text/html": [
       "<div>\n",
       "<style scoped>\n",
       "    .dataframe tbody tr th:only-of-type {\n",
       "        vertical-align: middle;\n",
       "    }\n",
       "\n",
       "    .dataframe tbody tr th {\n",
       "        vertical-align: top;\n",
       "    }\n",
       "\n",
       "    .dataframe thead th {\n",
       "        text-align: right;\n",
       "    }\n",
       "</style>\n",
       "<table border=\"1\" class=\"dataframe\">\n",
       "  <thead>\n",
       "    <tr style=\"text-align: right;\">\n",
       "      <th></th>\n",
       "      <th>id</th>\n",
       "      <th>Pregnancies</th>\n",
       "      <th>Glucose</th>\n",
       "      <th>BloodPressure</th>\n",
       "      <th>SkinThickness</th>\n",
       "      <th>Insulin</th>\n",
       "      <th>BMI</th>\n",
       "      <th>DiabetesPedigreeFunction</th>\n",
       "      <th>Age</th>\n",
       "      <th>id</th>\n",
       "      <th>Outcome</th>\n",
       "    </tr>\n",
       "  </thead>\n",
       "  <tbody>\n",
       "    <tr>\n",
       "      <th>id</th>\n",
       "      <td>1.000000</td>\n",
       "      <td>-0.022639</td>\n",
       "      <td>0.001313</td>\n",
       "      <td>0.030152</td>\n",
       "      <td>0.034351</td>\n",
       "      <td>0.015921</td>\n",
       "      <td>0.027716</td>\n",
       "      <td>-0.018934</td>\n",
       "      <td>0.009647</td>\n",
       "      <td>1.000000</td>\n",
       "      <td>-0.048599</td>\n",
       "    </tr>\n",
       "    <tr>\n",
       "      <th>Pregnancies</th>\n",
       "      <td>-0.022639</td>\n",
       "      <td>1.000000</td>\n",
       "      <td>0.157231</td>\n",
       "      <td>0.151080</td>\n",
       "      <td>-0.086042</td>\n",
       "      <td>-0.079270</td>\n",
       "      <td>0.020483</td>\n",
       "      <td>-0.040809</td>\n",
       "      <td>0.530117</td>\n",
       "      <td>-0.022639</td>\n",
       "      <td>0.232571</td>\n",
       "    </tr>\n",
       "    <tr>\n",
       "      <th>Glucose</th>\n",
       "      <td>0.001313</td>\n",
       "      <td>0.157231</td>\n",
       "      <td>1.000000</td>\n",
       "      <td>0.160031</td>\n",
       "      <td>0.058158</td>\n",
       "      <td>0.313152</td>\n",
       "      <td>0.243888</td>\n",
       "      <td>0.145261</td>\n",
       "      <td>0.265131</td>\n",
       "      <td>0.001313</td>\n",
       "      <td>0.458378</td>\n",
       "    </tr>\n",
       "    <tr>\n",
       "      <th>BloodPressure</th>\n",
       "      <td>0.030152</td>\n",
       "      <td>0.151080</td>\n",
       "      <td>0.160031</td>\n",
       "      <td>1.000000</td>\n",
       "      <td>0.233607</td>\n",
       "      <td>0.115477</td>\n",
       "      <td>0.284482</td>\n",
       "      <td>0.049321</td>\n",
       "      <td>0.234298</td>\n",
       "      <td>0.030152</td>\n",
       "      <td>0.048623</td>\n",
       "    </tr>\n",
       "    <tr>\n",
       "      <th>SkinThickness</th>\n",
       "      <td>0.034351</td>\n",
       "      <td>-0.086042</td>\n",
       "      <td>0.058158</td>\n",
       "      <td>0.233607</td>\n",
       "      <td>1.000000</td>\n",
       "      <td>0.431224</td>\n",
       "      <td>0.406174</td>\n",
       "      <td>0.182880</td>\n",
       "      <td>-0.137826</td>\n",
       "      <td>0.034351</td>\n",
       "      <td>0.075839</td>\n",
       "    </tr>\n",
       "    <tr>\n",
       "      <th>Insulin</th>\n",
       "      <td>0.015921</td>\n",
       "      <td>-0.079270</td>\n",
       "      <td>0.313152</td>\n",
       "      <td>0.115477</td>\n",
       "      <td>0.431224</td>\n",
       "      <td>1.000000</td>\n",
       "      <td>0.214843</td>\n",
       "      <td>0.189927</td>\n",
       "      <td>-0.064915</td>\n",
       "      <td>0.015921</td>\n",
       "      <td>0.128257</td>\n",
       "    </tr>\n",
       "    <tr>\n",
       "      <th>BMI</th>\n",
       "      <td>0.027716</td>\n",
       "      <td>0.020483</td>\n",
       "      <td>0.243888</td>\n",
       "      <td>0.284482</td>\n",
       "      <td>0.406174</td>\n",
       "      <td>0.214843</td>\n",
       "      <td>1.000000</td>\n",
       "      <td>0.141877</td>\n",
       "      <td>0.061852</td>\n",
       "      <td>0.027716</td>\n",
       "      <td>0.296715</td>\n",
       "    </tr>\n",
       "    <tr>\n",
       "      <th>DiabetesPedigreeFunction</th>\n",
       "      <td>-0.018934</td>\n",
       "      <td>-0.040809</td>\n",
       "      <td>0.145261</td>\n",
       "      <td>0.049321</td>\n",
       "      <td>0.182880</td>\n",
       "      <td>0.189927</td>\n",
       "      <td>0.141877</td>\n",
       "      <td>1.000000</td>\n",
       "      <td>0.041031</td>\n",
       "      <td>-0.018934</td>\n",
       "      <td>0.174323</td>\n",
       "    </tr>\n",
       "    <tr>\n",
       "      <th>Age</th>\n",
       "      <td>0.009647</td>\n",
       "      <td>0.530117</td>\n",
       "      <td>0.265131</td>\n",
       "      <td>0.234298</td>\n",
       "      <td>-0.137826</td>\n",
       "      <td>-0.064915</td>\n",
       "      <td>0.061852</td>\n",
       "      <td>0.041031</td>\n",
       "      <td>1.000000</td>\n",
       "      <td>0.009647</td>\n",
       "      <td>0.218914</td>\n",
       "    </tr>\n",
       "    <tr>\n",
       "      <th>id</th>\n",
       "      <td>1.000000</td>\n",
       "      <td>-0.022639</td>\n",
       "      <td>0.001313</td>\n",
       "      <td>0.030152</td>\n",
       "      <td>0.034351</td>\n",
       "      <td>0.015921</td>\n",
       "      <td>0.027716</td>\n",
       "      <td>-0.018934</td>\n",
       "      <td>0.009647</td>\n",
       "      <td>1.000000</td>\n",
       "      <td>-0.048599</td>\n",
       "    </tr>\n",
       "    <tr>\n",
       "      <th>Outcome</th>\n",
       "      <td>-0.048599</td>\n",
       "      <td>0.232571</td>\n",
       "      <td>0.458378</td>\n",
       "      <td>0.048623</td>\n",
       "      <td>0.075839</td>\n",
       "      <td>0.128257</td>\n",
       "      <td>0.296715</td>\n",
       "      <td>0.174323</td>\n",
       "      <td>0.218914</td>\n",
       "      <td>-0.048599</td>\n",
       "      <td>1.000000</td>\n",
       "    </tr>\n",
       "  </tbody>\n",
       "</table>\n",
       "</div>"
      ],
      "text/plain": [
       "                                id  Pregnancies   Glucose  BloodPressure  \\\n",
       "id                        1.000000    -0.022639  0.001313       0.030152   \n",
       "Pregnancies              -0.022639     1.000000  0.157231       0.151080   \n",
       "Glucose                   0.001313     0.157231  1.000000       0.160031   \n",
       "BloodPressure             0.030152     0.151080  0.160031       1.000000   \n",
       "SkinThickness             0.034351    -0.086042  0.058158       0.233607   \n",
       "Insulin                   0.015921    -0.079270  0.313152       0.115477   \n",
       "BMI                       0.027716     0.020483  0.243888       0.284482   \n",
       "DiabetesPedigreeFunction -0.018934    -0.040809  0.145261       0.049321   \n",
       "Age                       0.009647     0.530117  0.265131       0.234298   \n",
       "id                        1.000000    -0.022639  0.001313       0.030152   \n",
       "Outcome                  -0.048599     0.232571  0.458378       0.048623   \n",
       "\n",
       "                          SkinThickness   Insulin       BMI  \\\n",
       "id                             0.034351  0.015921  0.027716   \n",
       "Pregnancies                   -0.086042 -0.079270  0.020483   \n",
       "Glucose                        0.058158  0.313152  0.243888   \n",
       "BloodPressure                  0.233607  0.115477  0.284482   \n",
       "SkinThickness                  1.000000  0.431224  0.406174   \n",
       "Insulin                        0.431224  1.000000  0.214843   \n",
       "BMI                            0.406174  0.214843  1.000000   \n",
       "DiabetesPedigreeFunction       0.182880  0.189927  0.141877   \n",
       "Age                           -0.137826 -0.064915  0.061852   \n",
       "id                             0.034351  0.015921  0.027716   \n",
       "Outcome                        0.075839  0.128257  0.296715   \n",
       "\n",
       "                          DiabetesPedigreeFunction       Age        id  \\\n",
       "id                                       -0.018934  0.009647  1.000000   \n",
       "Pregnancies                              -0.040809  0.530117 -0.022639   \n",
       "Glucose                                   0.145261  0.265131  0.001313   \n",
       "BloodPressure                             0.049321  0.234298  0.030152   \n",
       "SkinThickness                             0.182880 -0.137826  0.034351   \n",
       "Insulin                                   0.189927 -0.064915  0.015921   \n",
       "BMI                                       0.141877  0.061852  0.027716   \n",
       "DiabetesPedigreeFunction                  1.000000  0.041031 -0.018934   \n",
       "Age                                       0.041031  1.000000  0.009647   \n",
       "id                                       -0.018934  0.009647  1.000000   \n",
       "Outcome                                   0.174323  0.218914 -0.048599   \n",
       "\n",
       "                           Outcome  \n",
       "id                       -0.048599  \n",
       "Pregnancies               0.232571  \n",
       "Glucose                   0.458378  \n",
       "BloodPressure             0.048623  \n",
       "SkinThickness             0.075839  \n",
       "Insulin                   0.128257  \n",
       "BMI                       0.296715  \n",
       "DiabetesPedigreeFunction  0.174323  \n",
       "Age                       0.218914  \n",
       "id                       -0.048599  \n",
       "Outcome                   1.000000  "
      ]
     },
     "execution_count": 6,
     "metadata": {},
     "output_type": "execute_result"
    }
   ],
   "source": [
    "train.corr()\n",
    "\n",
    "# Glucose, Pregnancies, BMI"
   ]
  },
  {
   "cell_type": "code",
   "execution_count": 7,
   "id": "33dd178f",
   "metadata": {
    "execution": {
     "iopub.execute_input": "2022-05-30T06:16:40.057144Z",
     "iopub.status.busy": "2022-05-30T06:16:40.056151Z",
     "iopub.status.idle": "2022-05-30T06:16:40.070535Z",
     "shell.execute_reply": "2022-05-30T06:16:40.071114Z",
     "shell.execute_reply.started": "2022-05-30T04:59:20.339965Z"
    },
    "papermill": {
     "duration": 0.045477,
     "end_time": "2022-05-30T06:16:40.071281",
     "exception": false,
     "start_time": "2022-05-30T06:16:40.025804",
     "status": "completed"
    },
    "tags": []
   },
   "outputs": [
    {
     "data": {
      "text/html": [
       "<div>\n",
       "<style scoped>\n",
       "    .dataframe tbody tr th:only-of-type {\n",
       "        vertical-align: middle;\n",
       "    }\n",
       "\n",
       "    .dataframe tbody tr th {\n",
       "        vertical-align: top;\n",
       "    }\n",
       "\n",
       "    .dataframe thead th {\n",
       "        text-align: right;\n",
       "    }\n",
       "</style>\n",
       "<table border=\"1\" class=\"dataframe\">\n",
       "  <thead>\n",
       "    <tr style=\"text-align: right;\">\n",
       "      <th></th>\n",
       "      <th>id</th>\n",
       "      <th>Pregnancies</th>\n",
       "      <th>Glucose</th>\n",
       "      <th>BloodPressure</th>\n",
       "      <th>SkinThickness</th>\n",
       "      <th>Insulin</th>\n",
       "      <th>BMI</th>\n",
       "      <th>DiabetesPedigreeFunction</th>\n",
       "      <th>Age</th>\n",
       "      <th>id</th>\n",
       "      <th>Outcome</th>\n",
       "    </tr>\n",
       "  </thead>\n",
       "  <tbody>\n",
       "  </tbody>\n",
       "</table>\n",
       "</div>"
      ],
      "text/plain": [
       "Empty DataFrame\n",
       "Columns: [id, Pregnancies, Glucose, BloodPressure, SkinThickness, Insulin, BMI, DiabetesPedigreeFunction, Age, id, Outcome]\n",
       "Index: []"
      ]
     },
     "execution_count": 7,
     "metadata": {},
     "output_type": "execute_result"
    }
   ],
   "source": [
    "# 중복값 있는지 확인\n",
    "train[train.duplicated()]"
   ]
  },
  {
   "cell_type": "code",
   "execution_count": 8,
   "id": "18771f47",
   "metadata": {
    "execution": {
     "iopub.execute_input": "2022-05-30T06:16:40.138501Z",
     "iopub.status.busy": "2022-05-30T06:16:40.134726Z",
     "iopub.status.idle": "2022-05-30T06:16:40.572754Z",
     "shell.execute_reply": "2022-05-30T06:16:40.572043Z",
     "shell.execute_reply.started": "2022-05-30T05:05:26.365250Z"
    },
    "papermill": {
     "duration": 0.472754,
     "end_time": "2022-05-30T06:16:40.572902",
     "exception": false,
     "start_time": "2022-05-30T06:16:40.100148",
     "status": "completed"
    },
    "tags": []
   },
   "outputs": [
    {
     "data": {
      "image/png": "[encoded data removed]",
      "text/plain": [
       "<Figure size 432x288 with 1 Axes>"
      ]
     },
     "metadata": {
      "needs_background": "light"
     },
     "output_type": "display_data"
    }
   ],
   "source": [
    "sns.boxplot(data=X_train.iloc[:,1:])\n",
    "sns.set(rc = {'figure.figsize':(16,6)})"
   ]
  },
  {
   "cell_type": "code",
   "execution_count": 9,
   "id": "8ef139f3",
   "metadata": {
    "execution": {
     "iopub.execute_input": "2022-05-30T06:16:40.639082Z",
     "iopub.status.busy": "2022-05-30T06:16:40.638423Z",
     "iopub.status.idle": "2022-05-30T06:16:40.651809Z",
     "shell.execute_reply": "2022-05-30T06:16:40.651234Z",
     "shell.execute_reply.started": "2022-05-30T05:13:49.939712Z"
    },
    "papermill": {
     "duration": 0.049526,
     "end_time": "2022-05-30T06:16:40.651958",
     "exception": false,
     "start_time": "2022-05-30T06:16:40.602432",
     "status": "completed"
    },
    "tags": []
   },
   "outputs": [],
   "source": [
    "# 최소값에 0이 있는 컬럼은 중앙값으로 대체\n",
    "cols = ['Glucose', 'BloodPressure', 'SkinThickness', 'Insulin', 'BMI']\n",
    "cols_median = X_train[cols].median()\n",
    "X_train[cols] = X_train[cols].replace(0, cols_median)\n",
    "\n",
    "# X_test 도 똑같이 해주는데 Insulin은 중앙값이 0이라 평균으로 대체\n",
    "cols_median = X_test[cols].median()\n",
    "X_test[cols] = X_test[cols].replace(0, cols_median)\n",
    "\n",
    "X_test['Insulin'] = X_test['Insulin'].replace(0, X_test['Insulin'].mean())"
   ]
  },
  {
   "cell_type": "code",
   "execution_count": 10,
   "id": "566bf4fd",
   "metadata": {
    "execution": {
     "iopub.execute_input": "2022-05-30T06:16:40.744999Z",
     "iopub.status.busy": "2022-05-30T06:16:40.719361Z",
     "iopub.status.idle": "2022-05-30T06:16:41.087525Z",
     "shell.execute_reply": "2022-05-30T06:16:41.086983Z",
     "shell.execute_reply.started": "2022-05-30T05:16:35.423838Z"
    },
    "papermill": {
     "duration": 0.405914,
     "end_time": "2022-05-30T06:16:41.087667",
     "exception": false,
     "start_time": "2022-05-30T06:16:40.681753",
     "status": "completed"
    },
    "tags": []
   },
   "outputs": [
    {
     "data": {
      "image/png": "[encoded data removed]",
      "text/plain": [
       "<Figure size 1152x432 with 1 Axes>"
      ]
     },
     "metadata": {},
     "output_type": "display_data"
    }
   ],
   "source": [
    "sns.boxplot(data=X_test.iloc[:,1:])\n",
    "sns.set(rc = {'figure.figsize':(16,6)})"
   ]
  },
  {
   "cell_type": "code",
   "execution_count": 11,
   "id": "7be9a235",
   "metadata": {
    "execution": {
     "iopub.execute_input": "2022-05-30T06:16:41.157194Z",
     "iopub.status.busy": "2022-05-30T06:16:41.156484Z",
     "iopub.status.idle": "2022-05-30T06:16:41.186721Z",
     "shell.execute_reply": "2022-05-30T06:16:41.187230Z",
     "shell.execute_reply.started": "2022-05-30T05:16:24.678875Z"
    },
    "papermill": {
     "duration": 0.06908,
     "end_time": "2022-05-30T06:16:41.187422",
     "exception": false,
     "start_time": "2022-05-30T06:16:41.118342",
     "status": "completed"
    },
    "tags": []
   },
   "outputs": [
    {
     "data": {
      "text/html": [
       "<div>\n",
       "<style scoped>\n",
       "    .dataframe tbody tr th:only-of-type {\n",
       "        vertical-align: middle;\n",
       "    }\n",
       "\n",
       "    .dataframe tbody tr th {\n",
       "        vertical-align: top;\n",
       "    }\n",
       "\n",
       "    .dataframe thead th {\n",
       "        text-align: right;\n",
       "    }\n",
       "</style>\n",
       "<table border=\"1\" class=\"dataframe\">\n",
       "  <thead>\n",
       "    <tr style=\"text-align: right;\">\n",
       "      <th></th>\n",
       "      <th>id</th>\n",
       "      <th>Pregnancies</th>\n",
       "      <th>Glucose</th>\n",
       "      <th>BloodPressure</th>\n",
       "      <th>SkinThickness</th>\n",
       "      <th>Insulin</th>\n",
       "      <th>BMI</th>\n",
       "      <th>DiabetesPedigreeFunction</th>\n",
       "      <th>Age</th>\n",
       "    </tr>\n",
       "  </thead>\n",
       "  <tbody>\n",
       "    <tr>\n",
       "      <th>count</th>\n",
       "      <td>154.000000</td>\n",
       "      <td>154.000000</td>\n",
       "      <td>154.000000</td>\n",
       "      <td>154.000000</td>\n",
       "      <td>154.000000</td>\n",
       "      <td>154.000000</td>\n",
       "      <td>154.000000</td>\n",
       "      <td>154.000000</td>\n",
       "      <td>154.000000</td>\n",
       "    </tr>\n",
       "    <tr>\n",
       "      <th>mean</th>\n",
       "      <td>369.629870</td>\n",
       "      <td>3.844156</td>\n",
       "      <td>121.649351</td>\n",
       "      <td>73.266234</td>\n",
       "      <td>25.344156</td>\n",
       "      <td>109.718207</td>\n",
       "      <td>32.583117</td>\n",
       "      <td>0.449571</td>\n",
       "      <td>32.928571</td>\n",
       "    </tr>\n",
       "    <tr>\n",
       "      <th>std</th>\n",
       "      <td>229.725752</td>\n",
       "      <td>3.302069</td>\n",
       "      <td>31.762915</td>\n",
       "      <td>13.040932</td>\n",
       "      <td>9.352138</td>\n",
       "      <td>87.666686</td>\n",
       "      <td>7.628923</td>\n",
       "      <td>0.295059</td>\n",
       "      <td>11.041873</td>\n",
       "    </tr>\n",
       "    <tr>\n",
       "      <th>min</th>\n",
       "      <td>1.000000</td>\n",
       "      <td>0.000000</td>\n",
       "      <td>44.000000</td>\n",
       "      <td>44.000000</td>\n",
       "      <td>11.000000</td>\n",
       "      <td>37.000000</td>\n",
       "      <td>18.200000</td>\n",
       "      <td>0.088000</td>\n",
       "      <td>21.000000</td>\n",
       "    </tr>\n",
       "    <tr>\n",
       "      <th>25%</th>\n",
       "      <td>174.750000</td>\n",
       "      <td>1.000000</td>\n",
       "      <td>99.250000</td>\n",
       "      <td>65.000000</td>\n",
       "      <td>19.500000</td>\n",
       "      <td>70.110390</td>\n",
       "      <td>27.250000</td>\n",
       "      <td>0.240750</td>\n",
       "      <td>24.000000</td>\n",
       "    </tr>\n",
       "    <tr>\n",
       "      <th>50%</th>\n",
       "      <td>374.500000</td>\n",
       "      <td>3.000000</td>\n",
       "      <td>117.500000</td>\n",
       "      <td>72.000000</td>\n",
       "      <td>19.750000</td>\n",
       "      <td>70.110390</td>\n",
       "      <td>31.975000</td>\n",
       "      <td>0.363500</td>\n",
       "      <td>29.000000</td>\n",
       "    </tr>\n",
       "    <tr>\n",
       "      <th>75%</th>\n",
       "      <td>571.250000</td>\n",
       "      <td>6.000000</td>\n",
       "      <td>141.500000</td>\n",
       "      <td>80.000000</td>\n",
       "      <td>31.000000</td>\n",
       "      <td>109.000000</td>\n",
       "      <td>36.275000</td>\n",
       "      <td>0.600750</td>\n",
       "      <td>39.000000</td>\n",
       "    </tr>\n",
       "    <tr>\n",
       "      <th>max</th>\n",
       "      <td>767.000000</td>\n",
       "      <td>13.000000</td>\n",
       "      <td>197.000000</td>\n",
       "      <td>122.000000</td>\n",
       "      <td>56.000000</td>\n",
       "      <td>543.000000</td>\n",
       "      <td>67.100000</td>\n",
       "      <td>1.893000</td>\n",
       "      <td>70.000000</td>\n",
       "    </tr>\n",
       "  </tbody>\n",
       "</table>\n",
       "</div>"
      ],
      "text/plain": [
       "               id  Pregnancies     Glucose  BloodPressure  SkinThickness  \\\n",
       "count  154.000000   154.000000  154.000000     154.000000     154.000000   \n",
       "mean   369.629870     3.844156  121.649351      73.266234      25.344156   \n",
       "std    229.725752     3.302069   31.762915      13.040932       9.352138   \n",
       "min      1.000000     0.000000   44.000000      44.000000      11.000000   \n",
       "25%    174.750000     1.000000   99.250000      65.000000      19.500000   \n",
       "50%    374.500000     3.000000  117.500000      72.000000      19.750000   \n",
       "75%    571.250000     6.000000  141.500000      80.000000      31.000000   \n",
       "max    767.000000    13.000000  197.000000     122.000000      56.000000   \n",
       "\n",
       "          Insulin         BMI  DiabetesPedigreeFunction         Age  \n",
       "count  154.000000  154.000000                154.000000  154.000000  \n",
       "mean   109.718207   32.583117                  0.449571   32.928571  \n",
       "std     87.666686    7.628923                  0.295059   11.041873  \n",
       "min     37.000000   18.200000                  0.088000   21.000000  \n",
       "25%     70.110390   27.250000                  0.240750   24.000000  \n",
       "50%     70.110390   31.975000                  0.363500   29.000000  \n",
       "75%    109.000000   36.275000                  0.600750   39.000000  \n",
       "max    543.000000   67.100000                  1.893000   70.000000  "
      ]
     },
     "execution_count": 11,
     "metadata": {},
     "output_type": "execute_result"
    }
   ],
   "source": [
    "X_test.describe()"
   ]
  },
  {
   "cell_type": "code",
   "execution_count": 12,
   "id": "9d7dd4cf",
   "metadata": {
    "execution": {
     "iopub.execute_input": "2022-05-30T06:16:41.252800Z",
     "iopub.status.busy": "2022-05-30T06:16:41.251818Z",
     "iopub.status.idle": "2022-05-30T06:16:41.266696Z",
     "shell.execute_reply": "2022-05-30T06:16:41.267255Z",
     "shell.execute_reply.started": "2022-05-30T05:19:09.082356Z"
    },
    "papermill": {
     "duration": 0.049408,
     "end_time": "2022-05-30T06:16:41.267430",
     "exception": false,
     "start_time": "2022-05-30T06:16:41.218022",
     "status": "completed"
    },
    "tags": []
   },
   "outputs": [],
   "source": [
    "# 스케일링\n",
    "from sklearn.preprocessing import StandardScaler\n",
    "scaler = StandardScaler()\n",
    "\n",
    "cols = ['Pregnancies','Glucose','BloodPressure','SkinThickness','Insulin','BMI','DiabetesPedigreeFunction','Age']\n",
    "X_train[cols] = scaler.fit_transform(X_train[cols])\n",
    "X_test[cols] = scaler.fit_transform(X_test[cols])"
   ]
  },
  {
   "cell_type": "code",
   "execution_count": 13,
   "id": "6df7253f",
   "metadata": {
    "execution": {
     "iopub.execute_input": "2022-05-30T06:16:41.333000Z",
     "iopub.status.busy": "2022-05-30T06:16:41.332040Z",
     "iopub.status.idle": "2022-05-30T06:16:41.337995Z",
     "shell.execute_reply": "2022-05-30T06:16:41.338576Z",
     "shell.execute_reply.started": "2022-05-30T05:20:01.289030Z"
    },
    "papermill": {
     "duration": 0.040377,
     "end_time": "2022-05-30T06:16:41.338747",
     "exception": false,
     "start_time": "2022-05-30T06:16:41.298370",
     "status": "completed"
    },
    "tags": []
   },
   "outputs": [],
   "source": [
    "X_train.drop('id', axis = 1, inplace=True)\n",
    "X_test.drop('id', axis = 1, inplace=True)"
   ]
  },
  {
   "cell_type": "code",
   "execution_count": 14,
   "id": "7fce2756",
   "metadata": {
    "execution": {
     "iopub.execute_input": "2022-05-30T06:16:41.403873Z",
     "iopub.status.busy": "2022-05-30T06:16:41.402848Z",
     "iopub.status.idle": "2022-05-30T06:16:41.657047Z",
     "shell.execute_reply": "2022-05-30T06:16:41.657619Z",
     "shell.execute_reply.started": "2022-05-30T05:56:36.208931Z"
    },
    "papermill": {
     "duration": 0.288972,
     "end_time": "2022-05-30T06:16:41.657811",
     "exception": false,
     "start_time": "2022-05-30T06:16:41.368839",
     "status": "completed"
    },
    "tags": []
   },
   "outputs": [],
   "source": [
    "# 모델\n",
    "\n",
    "from sklearn.linear_model import LogisticRegression\n",
    "from sklearn.neighbors import KNeighborsClassifier\n",
    "from sklearn.svm import SVC\n",
    "from sklearn.tree import DecisionTreeClassifier\n",
    "from sklearn.ensemble import RandomForestClassifier\n",
    "from xgboost import XGBClassifier\n",
    "from sklearn.ensemble import GradientBoostingClassifier\n",
    "\n",
    "from sklearn.model_selection import GridSearchCV"
   ]
  },
  {
   "cell_type": "code",
   "execution_count": 15,
   "id": "752e2b18",
   "metadata": {
    "execution": {
     "iopub.execute_input": "2022-05-30T06:16:41.728198Z",
     "iopub.status.busy": "2022-05-30T06:16:41.727145Z",
     "iopub.status.idle": "2022-05-30T06:16:41.729513Z",
     "shell.execute_reply": "2022-05-30T06:16:41.729969Z",
     "shell.execute_reply.started": "2022-05-30T05:30:45.127854Z"
    },
    "papermill": {
     "duration": 0.04082,
     "end_time": "2022-05-30T06:16:41.730169",
     "exception": false,
     "start_time": "2022-05-30T06:16:41.689349",
     "status": "completed"
    },
    "tags": []
   },
   "outputs": [],
   "source": [
    "from sklearn.model_selection import train_test_split\n",
    "\n",
    "X_tr, X_val, y_tr, y_val = train_test_split(X_train, y_train['Outcome'], test_size = 0.8, random_state=60)"
   ]
  },
  {
   "cell_type": "code",
   "execution_count": 16,
   "id": "f332b4fc",
   "metadata": {
    "execution": {
     "iopub.execute_input": "2022-05-30T06:16:41.795446Z",
     "iopub.status.busy": "2022-05-30T06:16:41.794470Z",
     "iopub.status.idle": "2022-05-30T06:16:41.814659Z",
     "shell.execute_reply": "2022-05-30T06:16:41.815275Z",
     "shell.execute_reply.started": "2022-05-30T05:39:10.168078Z"
    },
    "papermill": {
     "duration": 0.054817,
     "end_time": "2022-05-30T06:16:41.815486",
     "exception": false,
     "start_time": "2022-05-30T06:16:41.760669",
     "status": "completed"
    },
    "tags": []
   },
   "outputs": [
    {
     "name": "stdout",
     "output_type": "stream",
     "text": [
      "0.860655737704918\n",
      "0.7520325203252033\n"
     ]
    }
   ],
   "source": [
    "lr = LogisticRegression()\n",
    "lr.fit(X_tr, y_tr)\n",
    "\n",
    "print(lr.score(X_tr, y_tr))\n",
    "print(lr.score(X_val, y_val))"
   ]
  },
  {
   "cell_type": "code",
   "execution_count": 17,
   "id": "ab982e2c",
   "metadata": {
    "execution": {
     "iopub.execute_input": "2022-05-30T06:16:41.884245Z",
     "iopub.status.busy": "2022-05-30T06:16:41.883600Z",
     "iopub.status.idle": "2022-05-30T06:16:41.891078Z",
     "shell.execute_reply": "2022-05-30T06:16:41.891624Z",
     "shell.execute_reply.started": "2022-05-30T05:30:03.589400Z"
    },
    "papermill": {
     "duration": 0.044659,
     "end_time": "2022-05-30T06:16:41.891797",
     "exception": false,
     "start_time": "2022-05-30T06:16:41.847138",
     "status": "completed"
    },
    "tags": []
   },
   "outputs": [
    {
     "data": {
      "text/plain": [
       "0.7378048780487805"
      ]
     },
     "execution_count": 17,
     "metadata": {},
     "output_type": "execute_result"
    }
   ],
   "source": [
    "svc = SVC()\n",
    "svc.fit(X_tr, y_tr)\n",
    "svc.score(X_val, y_val)"
   ]
  },
  {
   "cell_type": "code",
   "execution_count": 18,
   "id": "c88a5b7f",
   "metadata": {
    "execution": {
     "iopub.execute_input": "2022-05-30T06:16:41.957475Z",
     "iopub.status.busy": "2022-05-30T06:16:41.956840Z",
     "iopub.status.idle": "2022-05-30T06:16:42.489698Z",
     "shell.execute_reply": "2022-05-30T06:16:42.490793Z",
     "shell.execute_reply.started": "2022-05-30T05:41:22.003210Z"
    },
    "papermill": {
     "duration": 0.567759,
     "end_time": "2022-05-30T06:16:42.490987",
     "exception": false,
     "start_time": "2022-05-30T06:16:41.923228",
     "status": "completed"
    },
    "tags": []
   },
   "outputs": [
    {
     "name": "stdout",
     "output_type": "stream",
     "text": [
      "0.9344262295081968\n",
      "0.7439024390243902\n"
     ]
    }
   ],
   "source": [
    "xgb = XGBClassifier(eval_metric='mlogloss', use_label_encoder=False, max_depth=3,n_estimators=204, learning_rate =0.01)\n",
    "xgb.fit(X_tr, y_tr)\n",
    "\n",
    "print(xgb.score(X_tr, y_tr))\n",
    "print(xgb.score(X_val, y_val))"
   ]
  },
  {
   "cell_type": "code",
   "execution_count": 19,
   "id": "54246e0b",
   "metadata": {
    "execution": {
     "iopub.execute_input": "2022-05-30T06:16:42.563646Z",
     "iopub.status.busy": "2022-05-30T06:16:42.563040Z",
     "iopub.status.idle": "2022-05-30T06:16:43.543955Z",
     "shell.execute_reply": "2022-05-30T06:16:43.543378Z",
     "shell.execute_reply.started": "2022-05-30T05:49:41.598500Z"
    },
    "papermill": {
     "duration": 1.019623,
     "end_time": "2022-05-30T06:16:43.544107",
     "exception": false,
     "start_time": "2022-05-30T06:16:42.524484",
     "status": "completed"
    },
    "tags": []
   },
   "outputs": [
    {
     "name": "stdout",
     "output_type": "stream",
     "text": [
      "0.8442622950819673\n",
      "0.725609756097561\n"
     ]
    }
   ],
   "source": [
    "rf = RandomForestClassifier(n_estimators=300,\n",
    "                            max_features = 0.5,\n",
    "                            max_depth=5,\n",
    "                            min_samples_leaf=20,\n",
    "                            n_jobs=-1,\n",
    "                            random_state = 0)\n",
    "rf.fit(X_tr, y_tr)\n",
    "print(rf.score(X_tr, y_tr))\n",
    "print(rf.score(X_val, y_val))"
   ]
  },
  {
   "cell_type": "code",
   "execution_count": 20,
   "id": "ee566272",
   "metadata": {
    "execution": {
     "iopub.execute_input": "2022-05-30T06:16:43.617290Z",
     "iopub.status.busy": "2022-05-30T06:16:43.616692Z",
     "iopub.status.idle": "2022-05-30T06:16:43.618897Z",
     "shell.execute_reply": "2022-05-30T06:16:43.619314Z",
     "shell.execute_reply.started": "2022-05-30T05:52:58.947012Z"
    },
    "papermill": {
     "duration": 0.041982,
     "end_time": "2022-05-30T06:16:43.619502",
     "exception": false,
     "start_time": "2022-05-30T06:16:43.577520",
     "status": "completed"
    },
    "tags": []
   },
   "outputs": [],
   "source": [
    "param_list={'n_estimators':[100,200,300], \n",
    "            'max_features':[0.2, 0.5, 0.8], \n",
    "            'max_depth':[3,5],\n",
    "            'min_samples_leaf':[10,20]}\n",
    "rf = RandomForestClassifier(n_jobs=-1, random_state = 0)\n",
    "\n",
    "grid_search = GridSearchCV(rf, param_grid=param_list, cv=5)"
   ]
  },
  {
   "cell_type": "code",
   "execution_count": 21,
   "id": "03b729ad",
   "metadata": {
    "execution": {
     "iopub.execute_input": "2022-05-30T06:16:43.690030Z",
     "iopub.status.busy": "2022-05-30T06:16:43.689306Z",
     "iopub.status.idle": "2022-05-30T06:18:03.072169Z",
     "shell.execute_reply": "2022-05-30T06:18:03.072697Z",
     "shell.execute_reply.started": "2022-05-30T05:53:02.457534Z"
    },
    "papermill": {
     "duration": 79.421294,
     "end_time": "2022-05-30T06:18:03.072868",
     "exception": false,
     "start_time": "2022-05-30T06:16:43.651574",
     "status": "completed"
    },
    "tags": []
   },
   "outputs": [
    {
     "data": {
      "text/plain": [
       "GridSearchCV(cv=5, estimator=RandomForestClassifier(n_jobs=-1, random_state=0),\n",
       "             param_grid={'max_depth': [3, 5], 'max_features': [0.2, 0.5, 0.8],\n",
       "                         'min_samples_leaf': [10, 20],\n",
       "                         'n_estimators': [100, 200, 300]})"
      ]
     },
     "execution_count": 21,
     "metadata": {},
     "output_type": "execute_result"
    }
   ],
   "source": [
    "grid_search.fit(X_tr, y_tr)"
   ]
  },
  {
   "cell_type": "code",
   "execution_count": 22,
   "id": "fce3337a",
   "metadata": {
    "execution": {
     "iopub.execute_input": "2022-05-30T06:18:03.142740Z",
     "iopub.status.busy": "2022-05-30T06:18:03.142070Z",
     "iopub.status.idle": "2022-05-30T06:18:03.144459Z",
     "shell.execute_reply": "2022-05-30T06:18:03.145027Z",
     "shell.execute_reply.started": "2022-05-30T05:55:34.018787Z"
    },
    "papermill": {
     "duration": 0.040274,
     "end_time": "2022-05-30T06:18:03.145195",
     "exception": false,
     "start_time": "2022-05-30T06:18:03.104921",
     "status": "completed"
    },
    "tags": []
   },
   "outputs": [
    {
     "data": {
      "text/plain": [
       "{'max_depth': 3,\n",
       " 'max_features': 0.8,\n",
       " 'min_samples_leaf': 10,\n",
       " 'n_estimators': 300}"
      ]
     },
     "execution_count": 22,
     "metadata": {},
     "output_type": "execute_result"
    }
   ],
   "source": [
    "#최적의 하이퍼파라미터 출력\n",
    "grid_search.best_params_"
   ]
  },
  {
   "cell_type": "code",
   "execution_count": 23,
   "id": "a6eac9c3",
   "metadata": {
    "execution": {
     "iopub.execute_input": "2022-05-30T06:18:03.215849Z",
     "iopub.status.busy": "2022-05-30T06:18:03.215180Z",
     "iopub.status.idle": "2022-05-30T06:18:03.220990Z",
     "shell.execute_reply": "2022-05-30T06:18:03.220446Z",
     "shell.execute_reply.started": "2022-05-30T05:55:52.283731Z"
    },
    "papermill": {
     "duration": 0.041814,
     "end_time": "2022-05-30T06:18:03.221133",
     "exception": false,
     "start_time": "2022-05-30T06:18:03.179319",
     "status": "completed"
    },
    "tags": []
   },
   "outputs": [
    {
     "data": {
      "text/plain": [
       "0.8276666666666668"
      ]
     },
     "execution_count": 23,
     "metadata": {},
     "output_type": "execute_result"
    }
   ],
   "source": [
    "#최적의 하이퍼파라미터에 따른 교차검증 점수\n",
    "grid_search.best_score_"
   ]
  },
  {
   "cell_type": "code",
   "execution_count": 24,
   "id": "d4d9b5f8",
   "metadata": {
    "execution": {
     "iopub.execute_input": "2022-05-30T06:18:03.290073Z",
     "iopub.status.busy": "2022-05-30T06:18:03.289469Z",
     "iopub.status.idle": "2022-05-30T06:18:03.293088Z",
     "shell.execute_reply": "2022-05-30T06:18:03.293589Z",
     "shell.execute_reply.started": "2022-05-30T05:56:05.421478Z"
    },
    "papermill": {
     "duration": 0.039937,
     "end_time": "2022-05-30T06:18:03.293753",
     "exception": false,
     "start_time": "2022-05-30T06:18:03.253816",
     "status": "completed"
    },
    "tags": []
   },
   "outputs": [],
   "source": [
    "#최적의 하이퍼파라미터로 학습된 모델\n",
    "rf = grid_search.best_estimator_"
   ]
  },
  {
   "cell_type": "code",
   "execution_count": 25,
   "id": "9c2afc04",
   "metadata": {
    "execution": {
     "iopub.execute_input": "2022-05-30T06:18:03.367161Z",
     "iopub.status.busy": "2022-05-30T06:18:03.366486Z",
     "iopub.status.idle": "2022-05-30T06:18:03.472503Z",
     "shell.execute_reply": "2022-05-30T06:18:03.472972Z",
     "shell.execute_reply.started": "2022-05-30T05:56:19.873105Z"
    },
    "papermill": {
     "duration": 0.146267,
     "end_time": "2022-05-30T06:18:03.473146",
     "exception": false,
     "start_time": "2022-05-30T06:18:03.326879",
     "status": "completed"
    },
    "tags": []
   },
   "outputs": [
    {
     "data": {
      "text/plain": [
       "0.7439024390243902"
      ]
     },
     "execution_count": 25,
     "metadata": {},
     "output_type": "execute_result"
    }
   ],
   "source": [
    "rf.score(X_val, y_val)"
   ]
  },
  {
   "cell_type": "code",
   "execution_count": 26,
   "id": "4a912ce9",
   "metadata": {
    "execution": {
     "iopub.execute_input": "2022-05-30T06:18:03.546791Z",
     "iopub.status.busy": "2022-05-30T06:18:03.546121Z",
     "iopub.status.idle": "2022-05-30T06:18:03.550311Z",
     "shell.execute_reply": "2022-05-30T06:18:03.550836Z",
     "shell.execute_reply.started": "2022-05-30T04:59:21.010035Z"
    },
    "papermill": {
     "duration": 0.043988,
     "end_time": "2022-05-30T06:18:03.551034",
     "exception": false,
     "start_time": "2022-05-30T06:18:03.507046",
     "status": "completed"
    },
    "tags": []
   },
   "outputs": [],
   "source": [
    "Q1 = X_train['Insulin'].quantile(0.25)\n",
    "Q3 = X_train['Insulin'].quantile(0.75)\n",
    "IQR = Q3-Q1"
   ]
  },
  {
   "cell_type": "code",
   "execution_count": 27,
   "id": "fe3f2acb",
   "metadata": {
    "execution": {
     "iopub.execute_input": "2022-05-30T06:18:03.627575Z",
     "iopub.status.busy": "2022-05-30T06:18:03.626934Z",
     "iopub.status.idle": "2022-05-30T06:18:03.630919Z",
     "shell.execute_reply": "2022-05-30T06:18:03.630322Z",
     "shell.execute_reply.started": "2022-05-30T04:59:21.022005Z"
    },
    "papermill": {
     "duration": 0.046825,
     "end_time": "2022-05-30T06:18:03.631071",
     "exception": false,
     "start_time": "2022-05-30T06:18:03.584246",
     "status": "completed"
    },
    "tags": []
   },
   "outputs": [
    {
     "data": {
      "text/html": [
       "<div>\n",
       "<style scoped>\n",
       "    .dataframe tbody tr th:only-of-type {\n",
       "        vertical-align: middle;\n",
       "    }\n",
       "\n",
       "    .dataframe tbody tr th {\n",
       "        vertical-align: top;\n",
       "    }\n",
       "\n",
       "    .dataframe thead th {\n",
       "        text-align: right;\n",
       "    }\n",
       "</style>\n",
       "<table border=\"1\" class=\"dataframe\">\n",
       "  <thead>\n",
       "    <tr style=\"text-align: right;\">\n",
       "      <th></th>\n",
       "      <th>Pregnancies</th>\n",
       "      <th>Glucose</th>\n",
       "      <th>BloodPressure</th>\n",
       "      <th>SkinThickness</th>\n",
       "      <th>Insulin</th>\n",
       "      <th>BMI</th>\n",
       "      <th>DiabetesPedigreeFunction</th>\n",
       "      <th>Age</th>\n",
       "    </tr>\n",
       "  </thead>\n",
       "  <tbody>\n",
       "  </tbody>\n",
       "</table>\n",
       "</div>"
      ],
      "text/plain": [
       "Empty DataFrame\n",
       "Columns: [Pregnancies, Glucose, BloodPressure, SkinThickness, Insulin, BMI, DiabetesPedigreeFunction, Age]\n",
       "Index: []"
      ]
     },
     "execution_count": 27,
     "metadata": {},
     "output_type": "execute_result"
    }
   ],
   "source": [
    "X_train[X_train['Insulin']< Q1-(1.5*IQR)]"
   ]
  },
  {
   "cell_type": "code",
   "execution_count": 28,
   "id": "c47054a2",
   "metadata": {
    "execution": {
     "iopub.execute_input": "2022-05-30T06:18:03.721912Z",
     "iopub.status.busy": "2022-05-30T06:18:03.721224Z",
     "iopub.status.idle": "2022-05-30T06:18:03.725561Z",
     "shell.execute_reply": "2022-05-30T06:18:03.724946Z",
     "shell.execute_reply.started": "2022-05-30T04:59:21.036397Z"
    },
    "papermill": {
     "duration": 0.060186,
     "end_time": "2022-05-30T06:18:03.725702",
     "exception": false,
     "start_time": "2022-05-30T06:18:03.665516",
     "status": "completed"
    },
    "tags": []
   },
   "outputs": [
    {
     "data": {
      "text/html": [
       "<div>\n",
       "<style scoped>\n",
       "    .dataframe tbody tr th:only-of-type {\n",
       "        vertical-align: middle;\n",
       "    }\n",
       "\n",
       "    .dataframe tbody tr th {\n",
       "        vertical-align: top;\n",
       "    }\n",
       "\n",
       "    .dataframe thead th {\n",
       "        text-align: right;\n",
       "    }\n",
       "</style>\n",
       "<table border=\"1\" class=\"dataframe\">\n",
       "  <thead>\n",
       "    <tr style=\"text-align: right;\">\n",
       "      <th></th>\n",
       "      <th>id</th>\n",
       "      <th>Pregnancies</th>\n",
       "      <th>Glucose</th>\n",
       "      <th>BloodPressure</th>\n",
       "      <th>SkinThickness</th>\n",
       "      <th>Insulin</th>\n",
       "      <th>BMI</th>\n",
       "      <th>DiabetesPedigreeFunction</th>\n",
       "      <th>Age</th>\n",
       "      <th>id</th>\n",
       "      <th>Outcome</th>\n",
       "    </tr>\n",
       "  </thead>\n",
       "  <tbody>\n",
       "    <tr>\n",
       "      <th>147</th>\n",
       "      <td>147</td>\n",
       "      <td>2</td>\n",
       "      <td>106</td>\n",
       "      <td>64</td>\n",
       "      <td>35</td>\n",
       "      <td>119</td>\n",
       "      <td>30.5</td>\n",
       "      <td>1.400</td>\n",
       "      <td>34</td>\n",
       "      <td>147</td>\n",
       "      <td>0</td>\n",
       "    </tr>\n",
       "    <tr>\n",
       "      <th>390</th>\n",
       "      <td>390</td>\n",
       "      <td>1</td>\n",
       "      <td>100</td>\n",
       "      <td>66</td>\n",
       "      <td>29</td>\n",
       "      <td>196</td>\n",
       "      <td>32.0</td>\n",
       "      <td>0.444</td>\n",
       "      <td>42</td>\n",
       "      <td>390</td>\n",
       "      <td>0</td>\n",
       "    </tr>\n",
       "    <tr>\n",
       "      <th>150</th>\n",
       "      <td>150</td>\n",
       "      <td>1</td>\n",
       "      <td>136</td>\n",
       "      <td>74</td>\n",
       "      <td>50</td>\n",
       "      <td>204</td>\n",
       "      <td>37.4</td>\n",
       "      <td>0.399</td>\n",
       "      <td>24</td>\n",
       "      <td>150</td>\n",
       "      <td>0</td>\n",
       "    </tr>\n",
       "    <tr>\n",
       "      <th>132</th>\n",
       "      <td>132</td>\n",
       "      <td>3</td>\n",
       "      <td>170</td>\n",
       "      <td>64</td>\n",
       "      <td>37</td>\n",
       "      <td>225</td>\n",
       "      <td>34.5</td>\n",
       "      <td>0.356</td>\n",
       "      <td>30</td>\n",
       "      <td>132</td>\n",
       "      <td>1</td>\n",
       "    </tr>\n",
       "    <tr>\n",
       "      <th>340</th>\n",
       "      <td>340</td>\n",
       "      <td>1</td>\n",
       "      <td>130</td>\n",
       "      <td>70</td>\n",
       "      <td>13</td>\n",
       "      <td>105</td>\n",
       "      <td>25.9</td>\n",
       "      <td>0.472</td>\n",
       "      <td>22</td>\n",
       "      <td>340</td>\n",
       "      <td>0</td>\n",
       "    </tr>\n",
       "    <tr>\n",
       "      <th>...</th>\n",
       "      <td>...</td>\n",
       "      <td>...</td>\n",
       "      <td>...</td>\n",
       "      <td>...</td>\n",
       "      <td>...</td>\n",
       "      <td>...</td>\n",
       "      <td>...</td>\n",
       "      <td>...</td>\n",
       "      <td>...</td>\n",
       "      <td>...</td>\n",
       "      <td>...</td>\n",
       "    </tr>\n",
       "    <tr>\n",
       "      <th>669</th>\n",
       "      <td>669</td>\n",
       "      <td>9</td>\n",
       "      <td>154</td>\n",
       "      <td>78</td>\n",
       "      <td>30</td>\n",
       "      <td>100</td>\n",
       "      <td>30.9</td>\n",
       "      <td>0.164</td>\n",
       "      <td>45</td>\n",
       "      <td>669</td>\n",
       "      <td>0</td>\n",
       "    </tr>\n",
       "    <tr>\n",
       "      <th>511</th>\n",
       "      <td>511</td>\n",
       "      <td>0</td>\n",
       "      <td>139</td>\n",
       "      <td>62</td>\n",
       "      <td>17</td>\n",
       "      <td>210</td>\n",
       "      <td>22.1</td>\n",
       "      <td>0.207</td>\n",
       "      <td>21</td>\n",
       "      <td>511</td>\n",
       "      <td>0</td>\n",
       "    </tr>\n",
       "    <tr>\n",
       "      <th>128</th>\n",
       "      <td>128</td>\n",
       "      <td>1</td>\n",
       "      <td>117</td>\n",
       "      <td>88</td>\n",
       "      <td>24</td>\n",
       "      <td>145</td>\n",
       "      <td>34.5</td>\n",
       "      <td>0.403</td>\n",
       "      <td>40</td>\n",
       "      <td>128</td>\n",
       "      <td>1</td>\n",
       "    </tr>\n",
       "    <tr>\n",
       "      <th>57</th>\n",
       "      <td>57</td>\n",
       "      <td>0</td>\n",
       "      <td>100</td>\n",
       "      <td>88</td>\n",
       "      <td>60</td>\n",
       "      <td>110</td>\n",
       "      <td>46.8</td>\n",
       "      <td>0.962</td>\n",
       "      <td>31</td>\n",
       "      <td>57</td>\n",
       "      <td>0</td>\n",
       "    </tr>\n",
       "    <tr>\n",
       "      <th>341</th>\n",
       "      <td>341</td>\n",
       "      <td>1</td>\n",
       "      <td>95</td>\n",
       "      <td>74</td>\n",
       "      <td>21</td>\n",
       "      <td>73</td>\n",
       "      <td>25.9</td>\n",
       "      <td>0.673</td>\n",
       "      <td>36</td>\n",
       "      <td>341</td>\n",
       "      <td>0</td>\n",
       "    </tr>\n",
       "  </tbody>\n",
       "</table>\n",
       "<p>327 rows × 11 columns</p>\n",
       "</div>"
      ],
      "text/plain": [
       "      id  Pregnancies  Glucose  BloodPressure  SkinThickness  Insulin   BMI  \\\n",
       "147  147            2      106             64             35      119  30.5   \n",
       "390  390            1      100             66             29      196  32.0   \n",
       "150  150            1      136             74             50      204  37.4   \n",
       "132  132            3      170             64             37      225  34.5   \n",
       "340  340            1      130             70             13      105  25.9   \n",
       "..   ...          ...      ...            ...            ...      ...   ...   \n",
       "669  669            9      154             78             30      100  30.9   \n",
       "511  511            0      139             62             17      210  22.1   \n",
       "128  128            1      117             88             24      145  34.5   \n",
       "57    57            0      100             88             60      110  46.8   \n",
       "341  341            1       95             74             21       73  25.9   \n",
       "\n",
       "     DiabetesPedigreeFunction  Age   id  Outcome  \n",
       "147                     1.400   34  147        0  \n",
       "390                     0.444   42  390        0  \n",
       "150                     0.399   24  150        0  \n",
       "132                     0.356   30  132        1  \n",
       "340                     0.472   22  340        0  \n",
       "..                        ...  ...  ...      ...  \n",
       "669                     0.164   45  669        0  \n",
       "511                     0.207   21  511        0  \n",
       "128                     0.403   40  128        1  \n",
       "57                      0.962   31   57        0  \n",
       "341                     0.673   36  341        0  \n",
       "\n",
       "[327 rows x 11 columns]"
      ]
     },
     "execution_count": 28,
     "metadata": {},
     "output_type": "execute_result"
    }
   ],
   "source": [
    "train[train['Insulin']> Q3+(1.5*IQR)]"
   ]
  },
  {
   "cell_type": "code",
   "execution_count": 29,
   "id": "0f31fb1e",
   "metadata": {
    "execution": {
     "iopub.execute_input": "2022-05-30T06:18:03.800801Z",
     "iopub.status.busy": "2022-05-30T06:18:03.799915Z",
     "iopub.status.idle": "2022-05-30T06:18:03.803613Z",
     "shell.execute_reply": "2022-05-30T06:18:03.803079Z",
     "shell.execute_reply.started": "2022-05-30T04:59:21.068051Z"
    },
    "papermill": {
     "duration": 0.043712,
     "end_time": "2022-05-30T06:18:03.803738",
     "exception": false,
     "start_time": "2022-05-30T06:18:03.760026",
     "status": "completed"
    },
    "tags": []
   },
   "outputs": [
    {
     "data": {
      "text/plain": [
       "-1.819267314016071"
      ]
     },
     "execution_count": 29,
     "metadata": {},
     "output_type": "execute_result"
    }
   ],
   "source": [
    "Q1-(1.5*IQR)"
   ]
  }
 ],
 "metadata": {
  "kernelspec": {
   "display_name": "Python 3",
   "language": "python",
   "name": "python3"
  },
  "language_info": {
   "codemirror_mode": {
    "name": "ipython",
    "version": 3
   },
   "file_extension": ".py",
   "mimetype": "text/x-python",
   "name": "python",
   "nbconvert_exporter": "python",
   "pygments_lexer": "ipython3",
   "version": "3.7.10"
  },
  "papermill": {
   "default_parameters": {},
   "duration": 95.067159,
   "end_time": "2022-05-30T06:18:04.649357",
   "environment_variables": {},
   "exception": null,
   "input_path": "__notebook__.ipynb",
   "output_path": "__notebook__.ipynb",
   "parameters": {},
   "start_time": "2022-05-30T06:16:29.582198",
   "version": "2.3.3"
  }
 },
 "nbformat": 4,
 "nbformat_minor": 5
}
